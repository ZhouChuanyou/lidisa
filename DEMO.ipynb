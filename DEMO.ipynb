{
 "cells": [
  {
   "cell_type": "markdown",
   "metadata": {},
   "source": [
    "# lidisa"
   ]
  },
  {
   "cell_type": "markdown",
   "metadata": {},
   "source": [
    "`lidisa` is a **li**ghtweight implementation of **di**rect **s**ampling in Python. This is a simplified version of the algorithm described in *The Direct Sampling method to perform multiple‐point geostatistical simulations* published by Mariethoz, Renard and Straubhaar in *Water Resources Research* (2010). It requires only `numpy` and `numba` as dependencies and makes use of the `numba` just-in-time compiler to significantly speed up sampling. `lidisa` is able to conduct both conditional and unconditional sampling of new images based on training data. This notebook shows a short workflow for using the direct sampler to create a new image based on a training image."
   ]
  },
  {
   "cell_type": "code",
   "execution_count": 1,
   "metadata": {
    "collapsed": true
   },
   "outputs": [],
   "source": [
    "from lidisa import dsampler\n",
    "import numpy as np\n",
    "import matplotlib.pyplot as plt"
   ]
  },
  {
   "cell_type": "code",
   "execution_count": 23,
   "metadata": {},
   "outputs": [],
   "source": [
    "training_image = np.load('./data/sample_image.npy') # 40 x 40 pixel 2D Numpy array\n",
    "simulator = dsampler(training_image,sampling_mode='unconditional',radius=4,threshold=0.4)"
   ]
  },
  {
   "cell_type": "markdown",
   "metadata": {},
   "source": [
    "`simulator` is a generator and we may use it to iteratively create new randomly sampled images. The state of the simulation is retained in `simulator`."
   ]
  },
  {
   "cell_type": "code",
   "execution_count": null,
   "metadata": {
    "collapsed": true
   },
   "outputs": [],
   "source": [
    "out = [x for x in simulator]"
   ]
  },
  {
   "cell_type": "markdown",
   "metadata": {},
   "source": [
    "As we can see, many of the patterns from the training image are reproduced in the random realization!"
   ]
  },
  {
   "cell_type": "code",
   "execution_count": 21,
   "metadata": {},
   "outputs": [
    {
     "data": {
      "image/png": "[encoded data removed]",
      "text/plain": [
       "<Figure size 576x288 with 2 Axes>"
      ]
     },
     "metadata": {
      "needs_background": "light"
     },
     "output_type": "display_data"
    }
   ],
   "source": [
    "fig,axes = plt.subplots(1,2,figsize = (8,4))\n",
    "axes[0].imshow(out[-1],vmin=0,vmax=6), axes[1].imshow(training_image,vmin=0,vmax=6)\n",
    "axes[0].set_title('Randomly generated'),axes[1].set_title('Training image')\n",
    "[ax.axis('off') for ax in axes];"
   ]
  }
 ],
 "metadata": {
  "kernelspec": {
   "display_name": "Python [conda env:geopandas_p36]",
   "language": "python",
   "name": "conda-env-geopandas_p36-py"
  },
  "language_info": {
   "codemirror_mode": {
    "name": "ipython",
    "version": 3
   },
   "file_extension": ".py",
   "mimetype": "text/x-python",
   "name": "python",
   "nbconvert_exporter": "python",
   "pygments_lexer": "ipython3",
   "version": "3.6.7"
  }
 },
 "nbformat": 4,
 "nbformat_minor": 2
}
